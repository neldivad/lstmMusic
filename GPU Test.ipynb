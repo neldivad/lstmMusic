{
 "cells": [
  {
   "cell_type": "code",
   "execution_count": 1,
   "metadata": {},
   "outputs": [
    {
     "name": "stdout",
     "output_type": "stream",
     "text": [
      "Tensorflow Version: 2.4.0\n",
      "Keras Version: 2.4.0\n",
      "\n",
      "Python: 3.8.2 (tags/v3.8.2:7b3ab59, Feb 25 2020, 23:03:10) [MSC v.1916 64 bit (AMD64)]\n",
      "Pandas: 1.1.4\n",
      "scikit-learn: 0.23.1\n",
      "\n",
      "GPU:\n"
     ]
    },
    {
     "data": {
      "text/plain": [
       "[PhysicalDevice(name='/physical_device:GPU:0', device_type='GPU')]"
      ]
     },
     "execution_count": 1,
     "metadata": {},
     "output_type": "execute_result"
    }
   ],
   "source": [
    "import sys\n",
    "\n",
    "import tensorflow.keras\n",
    "import pandas as pd\n",
    "import sklearn as sk\n",
    "import tensorflow as tf\n",
    "\n",
    "print(f'Tensorflow Version: {tf.__version__}')\n",
    "print(f'Keras Version: {tensorflow.keras.__version__}')\n",
    "print()\n",
    "print(f'Python: {sys.version}')\n",
    "print(f'Pandas: {pd.__version__}')\n",
    "print(f'scikit-learn: {sk.__version__}')\n",
    "print()\n",
    "print(\"GPU:\")\n",
    "tf.config.list_physical_devices('GPU')"
   ]
  },
  {
   "cell_type": "code",
   "execution_count": 4,
   "metadata": {},
   "outputs": [
    {
     "name": "stdout",
     "output_type": "stream",
     "text": [
      "----------------------------------------\n",
      "Device mapping:\n",
      "/job:localhost/replica:0/task:0/device:GPU:0 -> device: 0, name: GeForce GTX 1050, pci bus id: 0000:01:00.0, compute capability: 6.1\n",
      "\n",
      "Input shape: (500, 500) using Device: cpu took: 0.34\n",
      "Device mapping:\n",
      "/job:localhost/replica:0/task:0/device:GPU:0 -> device: 0, name: GeForce GTX 1050, pci bus id: 0000:01:00.0, compute capability: 6.1\n",
      "\n",
      "Input shape: (1000, 1000) using Device: cpu took: 0.07\n",
      "Device mapping:\n",
      "/job:localhost/replica:0/task:0/device:GPU:0 -> device: 0, name: GeForce GTX 1050, pci bus id: 0000:01:00.0, compute capability: 6.1\n",
      "\n",
      "Input shape: (2500, 2500) using Device: cpu took: 0.16\n",
      "Device mapping:\n",
      "/job:localhost/replica:0/task:0/device:GPU:0 -> device: 0, name: GeForce GTX 1050, pci bus id: 0000:01:00.0, compute capability: 6.1\n",
      "\n",
      "Input shape: (5000, 5000) using Device: cpu took: 0.79\n",
      "----------------------------------------\n",
      "Device mapping:\n",
      "/job:localhost/replica:0/task:0/device:GPU:0 -> device: 0, name: GeForce GTX 1050, pci bus id: 0000:01:00.0, compute capability: 6.1\n",
      "\n",
      "Input shape: (500, 500) using Device: gpu took: 0.11\n",
      "Device mapping:\n",
      "/job:localhost/replica:0/task:0/device:GPU:0 -> device: 0, name: GeForce GTX 1050, pci bus id: 0000:01:00.0, compute capability: 6.1\n",
      "\n",
      "Input shape: (1000, 1000) using Device: gpu took: 0.10\n",
      "Device mapping:\n",
      "/job:localhost/replica:0/task:0/device:GPU:0 -> device: 0, name: GeForce GTX 1050, pci bus id: 0000:01:00.0, compute capability: 6.1\n",
      "\n",
      "Input shape: (2500, 2500) using Device: gpu took: 0.12\n",
      "Device mapping:\n",
      "/job:localhost/replica:0/task:0/device:GPU:0 -> device: 0, name: GeForce GTX 1050, pci bus id: 0000:01:00.0, compute capability: 6.1\n",
      "\n",
      "Input shape: (5000, 5000) using Device: gpu took: 0.29\n",
      "----------------------------------------\n"
     ]
    }
   ],
   "source": [
    "import numpy as np\n",
    "import tensorflow as tf\n",
    "from datetime import datetime\n",
    "\n",
    "# Choose which device you want to test on: either 'cpu' or 'gpu'\n",
    "devices = ['cpu', 'gpu']\n",
    "\n",
    "# Choose size of the matrix to be used.\n",
    "# Make it bigger to see bigger benefits of parallel computation\n",
    "shapes = [(500, 500), (1000, 1000), (2500, 2500), (5000, 5000)]\n",
    "\n",
    "tf.compat.v1.disable_eager_execution()\n",
    "\n",
    "def compute_operations(device, shape):\n",
    "    \"\"\"Run a simple set of operations on a matrix of given shape on given device\n",
    "\n",
    "    Parameters\n",
    "    ----------\n",
    "    device : the type of device to use, either 'cpu' or 'gpu' \n",
    "    shape : a tuple for the shape of a 2d tensor, e.g. (10, 10)\n",
    "\n",
    "    Returns\n",
    "    -------\n",
    "    out : results of the operations as the time taken\n",
    "    \"\"\"\n",
    "\n",
    "    # Define operations to be computed on selected device\n",
    "    with tf.device(device):\n",
    "        random_matrix = tf.random.uniform(shape=shape, minval=0, maxval=1)\n",
    "        dot_operation = tf.matmul(random_matrix, tf.transpose(random_matrix))\n",
    "        sum_operation = tf.reduce_sum(dot_operation)\n",
    "\n",
    "    # Time the actual runtime of the operations\n",
    "    start_time = datetime.now()\n",
    "    with tf.compat.v1.Session(config= tf.compat.v1.ConfigProto(log_device_placement=True)) as session:\n",
    "            result = session.run(sum_operation)\n",
    "    elapsed_time = datetime.now() - start_time\n",
    "\n",
    "    return result, elapsed_time\n",
    "\n",
    "\n",
    "\n",
    "if __name__ == '__main__':\n",
    "\n",
    "    # Run the computations and print summary of each run\n",
    "    for device in devices:\n",
    "        print(\"--\" * 20)\n",
    "\n",
    "        for shape in shapes:\n",
    "            _, time_taken = compute_operations(device, shape)\n",
    "\n",
    "            # Print the result and also the time taken on the selected device\n",
    "            print(\"Input shape:\", shape, \"using Device:\", device, \"took: {:.2f}\".format(time_taken.seconds + time_taken.microseconds/1e6))\n",
    "            #print(\"Computation on shape:\", shape, \"using Device:\", device, \"took:\")\n",
    "\n",
    "    print(\"--\" * 20)"
   ]
  },
  {
   "cell_type": "code",
   "execution_count": 3,
   "metadata": {},
   "outputs": [
    {
     "name": "stdout",
     "output_type": "stream",
     "text": [
      "[PhysicalDevice(name='/physical_device:CPU:0', device_type='CPU'), PhysicalDevice(name='/physical_device:GPU:0', device_type='GPU')]\n",
      "/device:GPU:0\n"
     ]
    }
   ],
   "source": [
    "import tensorflow as tf\n",
    "print(tf.config.list_physical_devices() )\n",
    "print(tf.test.gpu_device_name() )"
   ]
  },
  {
   "cell_type": "code",
   "execution_count": 5,
   "metadata": {},
   "outputs": [
    {
     "data": {
      "text/plain": [
       "[PhysicalDevice(name='/physical_device:GPU:0', device_type='GPU')]"
      ]
     },
     "execution_count": 5,
     "metadata": {},
     "output_type": "execute_result"
    }
   ],
   "source": [
    "tf.config.experimental.list_physical_devices('GPU')"
   ]
  },
  {
   "cell_type": "code",
   "execution_count": 6,
   "metadata": {},
   "outputs": [
    {
     "name": "stdout",
     "output_type": "stream",
     "text": [
      "Default GPU Device: /device:GPU:0\n"
     ]
    }
   ],
   "source": [
    "if tf.test.gpu_device_name():\n",
    "   print('Default GPU Device: {}'.format(tf.test.gpu_device_name()))\n",
    "else:\n",
    "   print(\"Please install GPU version of TF\")"
   ]
  },
  {
   "cell_type": "code",
   "execution_count": 7,
   "metadata": {},
   "outputs": [
    {
     "name": "stdout",
     "output_type": "stream",
     "text": [
      "[name: \"/device:CPU:0\"\n",
      "device_type: \"CPU\"\n",
      "memory_limit: 268435456\n",
      "locality {\n",
      "}\n",
      "incarnation: 12512269096689068976\n",
      ", name: \"/device:GPU:0\"\n",
      "device_type: \"GPU\"\n",
      "memory_limit: 3132581479\n",
      "locality {\n",
      "  bus_id: 1\n",
      "  links {\n",
      "  }\n",
      "}\n",
      "incarnation: 15366485462878571899\n",
      "physical_device_desc: \"device: 0, name: GeForce GTX 1050, pci bus id: 0000:01:00.0, compute capability: 6.1\"\n",
      "]\n"
     ]
    }
   ],
   "source": [
    "from tensorflow.python.client import device_lib\n",
    "print(device_lib.list_local_devices())"
   ]
  },
  {
   "cell_type": "code",
   "execution_count": null,
   "metadata": {},
   "outputs": [],
   "source": []
  }
 ],
 "metadata": {
  "kernelspec": {
   "display_name": "Python 3",
   "language": "python",
   "name": "python3"
  },
  "language_info": {
   "codemirror_mode": {
    "name": "ipython",
    "version": 3
   },
   "file_extension": ".py",
   "mimetype": "text/x-python",
   "name": "python",
   "nbconvert_exporter": "python",
   "pygments_lexer": "ipython3",
   "version": "3.8.2"
  }
 },
 "nbformat": 4,
 "nbformat_minor": 4
}

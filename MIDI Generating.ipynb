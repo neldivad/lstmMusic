{
 "cells": [
  {
   "cell_type": "markdown",
   "metadata": {},
   "source": [
    "### Setting up GPU and testing GPU"
   ]
  },
  {
   "cell_type": "code",
   "execution_count": 1,
   "metadata": {},
   "outputs": [],
   "source": [
    "import sys\n",
    "\n",
    "import tensorflow.keras\n",
    "import pandas as pd\n",
    "import sklearn as sk\n",
    "import tensorflow as tf"
   ]
  },
  {
   "cell_type": "code",
   "execution_count": 2,
   "metadata": {},
   "outputs": [
    {
     "name": "stdout",
     "output_type": "stream",
     "text": [
      "Tensorflow Version: 2.4.0\n",
      "Keras Version: 2.4.0\n",
      "\n",
      "Python: 3.8.2 (tags/v3.8.2:7b3ab59, Feb 25 2020, 23:03:10) [MSC v.1916 64 bit (AMD64)]\n",
      "Pandas: 1.1.4\n",
      "scikit-learn: 0.23.1\n",
      "\n",
      "GPU:\n"
     ]
    },
    {
     "data": {
      "text/plain": [
       "[PhysicalDevice(name='/physical_device:GPU:0', device_type='GPU')]"
      ]
     },
     "execution_count": 2,
     "metadata": {},
     "output_type": "execute_result"
    }
   ],
   "source": [
    "print(f'Tensorflow Version: {tf.__version__}')\n",
    "print(f'Keras Version: {tensorflow.keras.__version__}')\n",
    "print()\n",
    "print(f'Python: {sys.version}')\n",
    "print(f'Pandas: {pd.__version__}')\n",
    "print(f'scikit-learn: {sk.__version__}')\n",
    "print()\n",
    "print(\"GPU:\")\n",
    "tf.config.list_physical_devices('GPU')"
   ]
  },
  {
   "cell_type": "code",
   "execution_count": 5,
   "metadata": {},
   "outputs": [],
   "source": [
    "configproto = tf.compat.v1.ConfigProto() \n",
    "# configproto.gpu_options.allow_growth = True\n",
    "# sess = tf.compat.v1.Session(config=configproto) \n",
    "# tf.compat.v1.keras.backend.set_session(sess)"
   ]
  },
  {
   "cell_type": "code",
   "execution_count": 6,
   "metadata": {},
   "outputs": [],
   "source": [
    "configproto.gpu_options.polling_inactive_delay_msecs = 10"
   ]
  },
  {
   "cell_type": "code",
   "execution_count": null,
   "metadata": {},
   "outputs": [],
   "source": [
    "This worked for me:\n",
    "\n",
    "set workers=1, and use_multiprocessing=False in self.keras_model.fit_generator in model.py\n",
    "Make sure that:\n",
    "steps_per_epoch = number of train samples//batch_size\n",
    "and\n",
    "validation_steps = number of validation samples//batch_size"
   ]
  },
  {
   "cell_type": "code",
   "execution_count": 1,
   "metadata": {},
   "outputs": [
    {
     "name": "stderr",
     "output_type": "stream",
     "text": [
      "Using TensorFlow backend.\n"
     ]
    }
   ],
   "source": [
    "import glob\n",
    "import pickle\n",
    "import numpy\n",
    "import tensorflow.keras as keras\n",
    "\n",
    "from music21 import converter, midi, instrument, note, chord\n",
    "\n",
    "from keras.models import Sequential\n",
    "from keras.layers import Dense\n",
    "from keras.layers import Dropout\n",
    "from keras.layers import LSTM\n",
    "from keras.layers import Activation\n",
    "from keras.layers import BatchNormalization as BatchNorm\n",
    "from keras.utils import np_utils\n",
    "from tensorflow.keras.callbacks import ModelCheckpoint"
   ]
  },
  {
   "cell_type": "code",
   "execution_count": null,
   "metadata": {},
   "outputs": [],
   "source": [
    "model.fit()\n",
    "ModelCheckpoint(vali)"
   ]
  },
  {
   "cell_type": "markdown",
   "metadata": {},
   "source": [
    "### Training Data"
   ]
  },
  {
   "cell_type": "code",
   "execution_count": 1,
   "metadata": {},
   "outputs": [],
   "source": [
    "from musicLSTM import train_network, get_notes, open_midi\n",
    "from musicPredict import create_midi, generate_midi\n",
    "from musicAnalysis import open_midi, list_instruments, print_parts_countour, harmonic_reduction"
   ]
  },
  {
   "cell_type": "code",
   "execution_count": null,
   "metadata": {},
   "outputs": [
    {
     "name": "stdout",
     "output_type": "stream",
     "text": [
      "Parsing whitenotes_midi\\August Certain Someone #220 (nc).mid\n",
      "Parsing whitenotes_midi\\churichuri.mid\n",
      "Parsing whitenotes_midi\\dadada tenshi #180.mid\n",
      "Parsing whitenotes_midi\\Discombobulate.mid\n",
      "Parsing whitenotes_midi\\flowering.mid\n",
      "Parsing whitenotes_midi\\hitchcock #170 (nc).mid\n",
      "Parsing whitenotes_midi\\Into the colors.mid\n",
      "Parsing whitenotes_midi\\karma.mid\n",
      "Parsing whitenotes_midi\\M2U-Blood Castle.mid\n",
      "Parsing whitenotes_midi\\memory of beach.mid\n",
      "Parsing whitenotes_midi\\Other Side of The Wall #154.mid\n",
      "Parsing whitenotes_midi\\Temptation M2U.mid\n",
      "Parsing whitenotes_midi\\thought criminal.mid\n",
      "Parsing whitenotes_midi\\Tsumi Hito IST.mid\n",
      "Parsing whitenotes_midi\\turing love.mid\n",
      "Parsing whitenotes_midi\\ugoku ugoku.mid\n",
      "Parsing whitenotes_midi\\Utawase.mid\n",
      "Parsing whitenotes_midi\\Yorushika - Thats Why I Gave Up on Music.mid\n",
      "Epoch 1/200\n",
      "302/302 [==============================] - 60s 173ms/step - loss: 5.4808\n",
      "Epoch 2/200\n",
      "302/302 [==============================] - 53s 174ms/step - loss: 4.7279\n",
      "Epoch 3/200\n",
      "302/302 [==============================] - 53s 174ms/step - loss: 4.7163\n",
      "Epoch 4/200\n",
      "302/302 [==============================] - 53s 176ms/step - loss: 4.6915\n",
      "Epoch 5/200\n",
      "302/302 [==============================] - 53s 176ms/step - loss: 4.7017\n",
      "Epoch 6/200\n",
      "302/302 [==============================] - 53s 176ms/step - loss: 4.6893\n",
      "Epoch 7/200\n",
      "302/302 [==============================] - 53s 177ms/step - loss: 4.6958\n",
      "Epoch 8/200\n",
      "302/302 [==============================] - 53s 176ms/step - loss: 4.6978\n",
      "Epoch 9/200\n",
      " 68/302 [=====>........................] - ETA: 41s - loss: 4.5881"
     ]
    }
   ],
   "source": [
    "train_network(folder_name= 'whitenotes_midi', \n",
    "              save_as_filename= 'white_notes',\n",
    "              seq_len= 100,\n",
    "              Dropout_count= 0.3, \n",
    "              epoch= 200, \n",
    "              batchsize= 50)"
   ]
  },
  {
   "cell_type": "code",
   "execution_count": 4,
   "metadata": {},
   "outputs": [],
   "source": [
    "generate_midi('testing2', 'white_notes', 'weights.hdf5',\n",
    "              seq_len= 100,\n",
    "              note_count= 200,     \n",
    "              offset_count= 0.5)"
   ]
  },
  {
   "cell_type": "code",
   "execution_count": null,
   "metadata": {},
   "outputs": [],
   "source": []
  }
 ],
 "metadata": {
  "kernelspec": {
   "display_name": "Python 3",
   "language": "python",
   "name": "python3"
  },
  "language_info": {
   "codemirror_mode": {
    "name": "ipython",
    "version": 3
   },
   "file_extension": ".py",
   "mimetype": "text/x-python",
   "name": "python",
   "nbconvert_exporter": "python",
   "pygments_lexer": "ipython3",
   "version": "3.8.2"
  }
 },
 "nbformat": 4,
 "nbformat_minor": 4
}
